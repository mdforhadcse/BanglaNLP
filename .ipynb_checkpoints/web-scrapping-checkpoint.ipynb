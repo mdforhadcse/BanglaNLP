{
 "cells": [
  {
   "cell_type": "markdown",
   "metadata": {
    "id": "rrp_3YIxVev1"
   },
   "source": [
    "**Requirement for scrapping**\n",
    "\n",
    "\n",
    "*   Selenium\n",
    "*   BeautifulSoup\n",
    "\n",
    "\n"
   ]
  },
  {
   "cell_type": "code",
   "execution_count": 1,
   "metadata": {
    "colab": {
     "base_uri": "https://localhost:8080/"
    },
    "executionInfo": {
     "elapsed": 3610,
     "status": "ok",
     "timestamp": 1631040168875,
     "user": {
      "displayName": "Md. Forhad Hossain",
      "photoUrl": "https://lh3.googleusercontent.com/a-/AOh14GiSQ3nqgBuIVt70-DTcfhAzwYZsXA0ivskbk_-8Eko=s64",
      "userId": "02145112367306312398"
     },
     "user_tz": -360
    },
    "id": "sQIvE4OkWljc",
    "outputId": "b0b3f811-063c-4bc3-dbe4-02247d6f5ec8"
   },
   "outputs": [
    {
     "name": "stdout",
     "output_type": "stream",
     "text": [
      "Requirement already satisfied: selenium in c:\\users\\forhad\\anaconda3\\lib\\site-packages (3.141.0)\n",
      "Requirement already satisfied: urllib3 in c:\\users\\forhad\\anaconda3\\lib\\site-packages (from selenium) (1.26.4)\n",
      "Note: you may need to restart the kernel to use updated packages.\n"
     ]
    }
   ],
   "source": [
    "pip install -U selenium"
   ]
  },
  {
   "cell_type": "code",
   "execution_count": 23,
   "metadata": {},
   "outputs": [],
   "source": [
    "import pandas as pd"
   ]
  },
  {
   "cell_type": "code",
   "execution_count": null,
   "metadata": {},
   "outputs": [],
   "source": []
  },
  {
   "cell_type": "code",
   "execution_count": null,
   "metadata": {},
   "outputs": [],
   "source": []
  },
  {
   "cell_type": "code",
   "execution_count": null,
   "metadata": {},
   "outputs": [],
   "source": []
  },
  {
   "cell_type": "code",
   "execution_count": 2,
   "metadata": {
    "executionInfo": {
     "elapsed": 3536,
     "status": "ok",
     "timestamp": 1631040477393,
     "user": {
      "displayName": "Md. Forhad Hossain",
      "photoUrl": "https://lh3.googleusercontent.com/a-/AOh14GiSQ3nqgBuIVt70-DTcfhAzwYZsXA0ivskbk_-8Eko=s64",
      "userId": "02145112367306312398"
     },
     "user_tz": -360
    },
    "id": "C0OtOPblk0qG"
   },
   "outputs": [],
   "source": [
    "!pip install kora -q"
   ]
  },
  {
   "cell_type": "code",
   "execution_count": 3,
   "metadata": {
    "colab": {
     "base_uri": "https://localhost:8080/"
    },
    "executionInfo": {
     "elapsed": 3717,
     "status": "ok",
     "timestamp": 1631040176662,
     "user": {
      "displayName": "Md. Forhad Hossain",
      "photoUrl": "https://lh3.googleusercontent.com/a-/AOh14GiSQ3nqgBuIVt70-DTcfhAzwYZsXA0ivskbk_-8Eko=s64",
      "userId": "02145112367306312398"
     },
     "user_tz": -360
    },
    "id": "0I4N5NlrXs-f",
    "outputId": "a468cb65-081a-457d-c697-faac06d8fd6e"
   },
   "outputs": [
    {
     "name": "stdout",
     "output_type": "stream",
     "text": [
      "Requirement already satisfied: msedge-selenium-tools in c:\\users\\forhad\\anaconda3\\lib\\site-packages (3.141.3)\n",
      "Requirement already satisfied: selenium==3.141 in c:\\users\\forhad\\anaconda3\\lib\\site-packages (3.141.0)\n",
      "Requirement already satisfied: urllib3 in c:\\users\\forhad\\anaconda3\\lib\\site-packages (from selenium==3.141) (1.26.4)\n",
      "Note: you may need to restart the kernel to use updated packages.\n"
     ]
    }
   ],
   "source": [
    "pip install msedge-selenium-tools selenium==3.141"
   ]
  },
  {
   "cell_type": "code",
   "execution_count": 4,
   "metadata": {
    "executionInfo": {
     "elapsed": 338,
     "status": "ok",
     "timestamp": 1631040480635,
     "user": {
      "displayName": "Md. Forhad Hossain",
      "photoUrl": "https://lh3.googleusercontent.com/a-/AOh14GiSQ3nqgBuIVt70-DTcfhAzwYZsXA0ivskbk_-8Eko=s64",
      "userId": "02145112367306312398"
     },
     "user_tz": -360
    },
    "id": "HdPwjTeXUSWD"
   },
   "outputs": [],
   "source": [
    "import csv\n",
    "from bs4 import BeautifulSoup"
   ]
  },
  {
   "cell_type": "code",
   "execution_count": 5,
   "metadata": {
    "executionInfo": {
     "elapsed": 492,
     "status": "ok",
     "timestamp": 1631040483655,
     "user": {
      "displayName": "Md. Forhad Hossain",
      "photoUrl": "https://lh3.googleusercontent.com/a-/AOh14GiSQ3nqgBuIVt70-DTcfhAzwYZsXA0ivskbk_-8Eko=s64",
      "userId": "02145112367306312398"
     },
     "user_tz": -360
    },
    "id": "EBbljhPyVcqM"
   },
   "outputs": [],
   "source": [
    "#Firefox and chrome\n",
    "from kora.selenium import webdriver"
   ]
  },
  {
   "cell_type": "code",
   "execution_count": 6,
   "metadata": {
    "executionInfo": {
     "elapsed": 330,
     "status": "ok",
     "timestamp": 1631040353777,
     "user": {
      "displayName": "Md. Forhad Hossain",
      "photoUrl": "https://lh3.googleusercontent.com/a-/AOh14GiSQ3nqgBuIVt70-DTcfhAzwYZsXA0ivskbk_-8Eko=s64",
      "userId": "02145112367306312398"
     },
     "user_tz": -360
    },
    "id": "g8LXir4QWt_g"
   },
   "outputs": [],
   "source": [
    "#Microsoft EDGe\n",
    "from msedge.selenium_tools import Edge, EdgeOptions"
   ]
  },
  {
   "cell_type": "markdown",
   "metadata": {
    "id": "DF4YMIn3X0Vg"
   },
   "source": [
    "# Startup the webdriver"
   ]
  },
  {
   "cell_type": "code",
   "execution_count": 7,
   "metadata": {
    "colab": {
     "base_uri": "https://localhost:8080/",
     "height": 408
    },
    "executionInfo": {
     "elapsed": 1504,
     "status": "error",
     "timestamp": 1631040908831,
     "user": {
      "displayName": "Md. Forhad Hossain",
      "photoUrl": "https://lh3.googleusercontent.com/a-/AOh14GiSQ3nqgBuIVt70-DTcfhAzwYZsXA0ivskbk_-8Eko=s64",
      "userId": "02145112367306312398"
     },
     "user_tz": -360
    },
    "id": "wwn9BhfSA93e",
    "outputId": "2228bcc8-a801-4401-eaff-dd7a2c969ab8"
   },
   "outputs": [],
   "source": [
    "driver = webdriver.Chrome()\n",
    "# executable_path=r'C:\\path\\to\\msedgedriver.exe'"
   ]
  },
  {
   "cell_type": "code",
   "execution_count": 8,
   "metadata": {
    "colab": {
     "base_uri": "https://localhost:8080/",
     "height": 510
    },
    "executionInfo": {
     "elapsed": 366,
     "status": "error",
     "timestamp": 1631040911705,
     "user": {
      "displayName": "Md. Forhad Hossain",
      "photoUrl": "https://lh3.googleusercontent.com/a-/AOh14GiSQ3nqgBuIVt70-DTcfhAzwYZsXA0ivskbk_-8Eko=s64",
      "userId": "02145112367306312398"
     },
     "user_tz": -360
    },
    "id": "JFeB_wjkX7-M",
    "outputId": "68776ffe-649b-4232-d53a-de497547194a"
   },
   "outputs": [],
   "source": [
    "#edge\n",
    "options = EdgeOptions()\n",
    "options.use_chromium = True\n",
    "driver = Edge(options=options)"
   ]
  },
  {
   "cell_type": "code",
   "execution_count": 9,
   "metadata": {},
   "outputs": [],
   "source": [
    "url = 'https://www.jagonews24.com/bangladesh/barisal/patuakhali'\n",
    "driver.get(url)"
   ]
  },
  {
   "cell_type": "code",
   "execution_count": 10,
   "metadata": {},
   "outputs": [],
   "source": [
    "def get_url(address):\n",
    "    \"\"\"Generate url from division, district, thana\"\"\"\n",
    "    template = 'https://www.jagonews24.com/bangladesh/{}'\n",
    "    address = address.replace(' ', '/')\n",
    "    return template.format(address)\n"
   ]
  },
  {
   "cell_type": "code",
   "execution_count": 11,
   "metadata": {},
   "outputs": [],
   "source": [
    "url = get_url('barisal patuakhali dumki')\n",
    "driver.get(url)"
   ]
  },
  {
   "cell_type": "markdown",
   "metadata": {},
   "source": [
    "# Extract the collection"
   ]
  },
  {
   "cell_type": "code",
   "execution_count": 12,
   "metadata": {},
   "outputs": [],
   "source": [
    "soup = BeautifulSoup(driver.page_source, 'html.parser')"
   ]
  },
  {
   "cell_type": "code",
   "execution_count": 13,
   "metadata": {},
   "outputs": [],
   "source": [
    "results = soup.find_all('div', attrs={'class':'paddingTop10 paddingRight10'})"
   ]
  },
  {
   "cell_type": "code",
   "execution_count": 14,
   "metadata": {},
   "outputs": [
    {
     "data": {
      "text/plain": [
       "20"
      ]
     },
     "execution_count": 14,
     "metadata": {},
     "output_type": "execute_result"
    }
   ],
   "source": [
    "len(results)"
   ]
  },
  {
   "cell_type": "code",
   "execution_count": 15,
   "metadata": {},
   "outputs": [
    {
     "data": {
      "text/plain": [
       "'জামাইয়ের দায়ের কোপে শাশুড়ির মৃত্যু'"
      ]
     },
     "execution_count": 15,
     "metadata": {},
     "output_type": "execute_result"
    }
   ],
   "source": [
    "results[0].find('a')['title']"
   ]
  },
  {
   "cell_type": "code",
   "execution_count": 16,
   "metadata": {},
   "outputs": [
    {
     "data": {
      "text/plain": [
       "'https://www.jagonews24.com/country/news/675171'"
      ]
     },
     "execution_count": 16,
     "metadata": {},
     "output_type": "execute_result"
    }
   ],
   "source": [
    "results[0].find('a')['href']"
   ]
  },
  {
   "cell_type": "markdown",
   "metadata": {},
   "source": [
    "# Prototype the record"
   ]
  },
  {
   "cell_type": "code",
   "execution_count": 17,
   "metadata": {},
   "outputs": [],
   "source": [
    "item = results[0]"
   ]
  },
  {
   "cell_type": "code",
   "execution_count": 18,
   "metadata": {},
   "outputs": [],
   "source": [
    "news = item.find('a')['title']"
   ]
  },
  {
   "cell_type": "code",
   "execution_count": 19,
   "metadata": {},
   "outputs": [],
   "source": [
    "link = item.find('a')['href']"
   ]
  },
  {
   "cell_type": "markdown",
   "metadata": {},
   "source": [
    "# Generalize the pattern"
   ]
  },
  {
   "cell_type": "code",
   "execution_count": 20,
   "metadata": {},
   "outputs": [],
   "source": [
    "def extract_record(item):\n",
    "    \"\"\"Extract and return data into single record\"\"\"\n",
    "    news = item.find('a')['title']\n",
    "    link = item.find('a')['href']\n",
    "    result = (news, link)\n",
    "    return result"
   ]
  },
  {
   "cell_type": "code",
   "execution_count": 21,
   "metadata": {},
   "outputs": [],
   "source": [
    "records = []\n",
    "results = soup.find_all('div', attrs={'class':'paddingTop10 paddingRight10'})\n",
    "\n",
    "for item in results:\n",
    "    records.append(extract_record(item))"
   ]
  },
  {
   "cell_type": "code",
   "execution_count": 25,
   "metadata": {},
   "outputs": [
    {
     "data": {
      "text/html": [
       "<div>\n",
       "<style scoped>\n",
       "    .dataframe tbody tr th:only-of-type {\n",
       "        vertical-align: middle;\n",
       "    }\n",
       "\n",
       "    .dataframe tbody tr th {\n",
       "        vertical-align: top;\n",
       "    }\n",
       "\n",
       "    .dataframe thead th {\n",
       "        text-align: right;\n",
       "    }\n",
       "</style>\n",
       "<table border=\"1\" class=\"dataframe\">\n",
       "  <thead>\n",
       "    <tr style=\"text-align: right;\">\n",
       "      <th></th>\n",
       "      <th>Headline</th>\n",
       "      <th>URL</th>\n",
       "    </tr>\n",
       "  </thead>\n",
       "  <tbody>\n",
       "    <tr>\n",
       "      <th>0</th>\n",
       "      <td>জামাইয়ের দায়ের কোপে শাশুড়ির মৃত্যু</td>\n",
       "      <td>https://www.jagonews24.com/country/news/675171</td>\n",
       "    </tr>\n",
       "    <tr>\n",
       "      <th>1</th>\n",
       "      <td>মাছের সঙ্গে শত্রুতা!</td>\n",
       "      <td>https://www.jagonews24.com/country/news/660867</td>\n",
       "    </tr>\n",
       "    <tr>\n",
       "      <th>2</th>\n",
       "      <td>পটুয়াখালীতে ডায়রিয়ায় বৃদ্ধের মৃত্যু</td>\n",
       "      <td>https://www.jagonews24.com/country/news/659977</td>\n",
       "    </tr>\n",
       "    <tr>\n",
       "      <th>3</th>\n",
       "      <td>মোটরসাইকেলের ধাক্কায় ইউপি সদস্য নিহত</td>\n",
       "      <td>https://www.jagonews24.com/country/news/628902</td>\n",
       "    </tr>\n",
       "    <tr>\n",
       "      <th>4</th>\n",
       "      <td>ট্রলি থেকে ছিটকে পড়ে পিষ্ট হলেন শ্রমিক</td>\n",
       "      <td>https://www.jagonews24.com/country/news/628574</td>\n",
       "    </tr>\n",
       "    <tr>\n",
       "      <th>5</th>\n",
       "      <td>টানা ৪১ দিন জামাতে নামাজ পড়ে সাইকেল পেল ১৮ কিশোর</td>\n",
       "      <td>https://www.jagonews24.com/country/news/627542</td>\n",
       "    </tr>\n",
       "    <tr>\n",
       "      <th>6</th>\n",
       "      <td>৭ কচ্ছপসহ ব্যবসায়ী আটক</td>\n",
       "      <td>https://www.jagonews24.com/country/news/612117</td>\n",
       "    </tr>\n",
       "    <tr>\n",
       "      <th>7</th>\n",
       "      <td>ঋণের বোঝা বইতে না পেরে যুবকের আত্মহত্যা</td>\n",
       "      <td>https://www.jagonews24.com/country/news/606897</td>\n",
       "    </tr>\n",
       "    <tr>\n",
       "      <th>8</th>\n",
       "      <td>করোনায় পোশাককর্মীর মৃত্যু, ২৫ জন কোয়ারেন্টাইনে</td>\n",
       "      <td>https://www.jagonews24.com/country/news/572909</td>\n",
       "    </tr>\n",
       "    <tr>\n",
       "      <th>9</th>\n",
       "      <td>করোনা শনাক্তের পরই দুমকি উপজেলা লকডাউন</td>\n",
       "      <td>https://www.jagonews24.com/country/news/572665</td>\n",
       "    </tr>\n",
       "    <tr>\n",
       "      <th>10</th>\n",
       "      <td>দুমকিতে করোনা পজিটিভ পোশাককর্মীর মৃত্যু</td>\n",
       "      <td>https://www.jagonews24.com/country/news/572428</td>\n",
       "    </tr>\n",
       "    <tr>\n",
       "      <th>11</th>\n",
       "      <td>পটুয়াখালীতে গৃহবধূর আপত্তিকর ভিডিও ছড়ানোর মূল ...</td>\n",
       "      <td>https://www.jagonews24.com/country/news/541608</td>\n",
       "    </tr>\n",
       "    <tr>\n",
       "      <th>12</th>\n",
       "      <td>পটুয়াখালী প্রযুক্তি বিশ্ববিদ্যালয়ের শিক্ষার্থী...</td>\n",
       "      <td>https://www.jagonews24.com/campus/news/538909</td>\n",
       "    </tr>\n",
       "    <tr>\n",
       "      <th>13</th>\n",
       "      <td>দুমকিতে সাঁকো থেকে পড়ে শিশুর মৃত্যু</td>\n",
       "      <td>https://www.jagonews24.com/country/news/519105</td>\n",
       "    </tr>\n",
       "    <tr>\n",
       "      <th>14</th>\n",
       "      <td>এক রেইনট্রি গাছের মূল্য ৬ লাখ ৯০ হাজার!</td>\n",
       "      <td>https://www.jagonews24.com/country/news/509900</td>\n",
       "    </tr>\n",
       "    <tr>\n",
       "      <th>15</th>\n",
       "      <td>বাঁচানো গেল না পিঁপড়ায় ধরা সেই নবজাতককে</td>\n",
       "      <td>https://www.jagonews24.com/country/news/508517</td>\n",
       "    </tr>\n",
       "    <tr>\n",
       "      <th>16</th>\n",
       "      <td>বোনের বাড়ি বেড়াতে গিয়ে লাশ হয়ে ফিরলেন ভাই</td>\n",
       "      <td>https://www.jagonews24.com/country/news/506156</td>\n",
       "    </tr>\n",
       "    <tr>\n",
       "      <th>17</th>\n",
       "      <td>গাছতলায় ব্যাগের ভেতর মিলল নবজাতক</td>\n",
       "      <td>https://www.jagonews24.com/country/news/504943</td>\n",
       "    </tr>\n",
       "    <tr>\n",
       "      <th>18</th>\n",
       "      <td>স্কুলছাত্রীর সঙ্গে সেলফি তোলায় যুবকের জেল</td>\n",
       "      <td>https://www.jagonews24.com/country/news/495562</td>\n",
       "    </tr>\n",
       "    <tr>\n",
       "      <th>19</th>\n",
       "      <td>সন্তান সুস্থ না হওয়ায় হাসপাতালে মায়ের আত্মহত্যা</td>\n",
       "      <td>https://www.jagonews24.com/country/news/481365</td>\n",
       "    </tr>\n",
       "  </tbody>\n",
       "</table>\n",
       "</div>"
      ],
      "text/plain": [
       "                                             Headline  \\\n",
       "0                  জামাইয়ের দায়ের কোপে শাশুড়ির মৃত্যু   \n",
       "1                                মাছের সঙ্গে শত্রুতা!   \n",
       "2                 পটুয়াখালীতে ডায়রিয়ায় বৃদ্ধের মৃত্যু   \n",
       "3                মোটরসাইকেলের ধাক্কায় ইউপি সদস্য নিহত   \n",
       "4              ট্রলি থেকে ছিটকে পড়ে পিষ্ট হলেন শ্রমিক   \n",
       "5    টানা ৪১ দিন জামাতে নামাজ পড়ে সাইকেল পেল ১৮ কিশোর   \n",
       "6                              ৭ কচ্ছপসহ ব্যবসায়ী আটক   \n",
       "7             ঋণের বোঝা বইতে না পেরে যুবকের আত্মহত্যা   \n",
       "8      করোনায় পোশাককর্মীর মৃত্যু, ২৫ জন কোয়ারেন্টাইনে   \n",
       "9              করোনা শনাক্তের পরই দুমকি উপজেলা লকডাউন   \n",
       "10            দুমকিতে করোনা পজিটিভ পোশাককর্মীর মৃত্যু   \n",
       "11  পটুয়াখালীতে গৃহবধূর আপত্তিকর ভিডিও ছড়ানোর মূল ...   \n",
       "12  পটুয়াখালী প্রযুক্তি বিশ্ববিদ্যালয়ের শিক্ষার্থী...   \n",
       "13                দুমকিতে সাঁকো থেকে পড়ে শিশুর মৃত্যু   \n",
       "14            এক রেইনট্রি গাছের মূল্য ৬ লাখ ৯০ হাজার!   \n",
       "15            বাঁচানো গেল না পিঁপড়ায় ধরা সেই নবজাতককে   \n",
       "16          বোনের বাড়ি বেড়াতে গিয়ে লাশ হয়ে ফিরলেন ভাই   \n",
       "17                   গাছতলায় ব্যাগের ভেতর মিলল নবজাতক   \n",
       "18          স্কুলছাত্রীর সঙ্গে সেলফি তোলায় যুবকের জেল   \n",
       "19    সন্তান সুস্থ না হওয়ায় হাসপাতালে মায়ের আত্মহত্যা   \n",
       "\n",
       "                                               URL  \n",
       "0   https://www.jagonews24.com/country/news/675171  \n",
       "1   https://www.jagonews24.com/country/news/660867  \n",
       "2   https://www.jagonews24.com/country/news/659977  \n",
       "3   https://www.jagonews24.com/country/news/628902  \n",
       "4   https://www.jagonews24.com/country/news/628574  \n",
       "5   https://www.jagonews24.com/country/news/627542  \n",
       "6   https://www.jagonews24.com/country/news/612117  \n",
       "7   https://www.jagonews24.com/country/news/606897  \n",
       "8   https://www.jagonews24.com/country/news/572909  \n",
       "9   https://www.jagonews24.com/country/news/572665  \n",
       "10  https://www.jagonews24.com/country/news/572428  \n",
       "11  https://www.jagonews24.com/country/news/541608  \n",
       "12   https://www.jagonews24.com/campus/news/538909  \n",
       "13  https://www.jagonews24.com/country/news/519105  \n",
       "14  https://www.jagonews24.com/country/news/509900  \n",
       "15  https://www.jagonews24.com/country/news/508517  \n",
       "16  https://www.jagonews24.com/country/news/506156  \n",
       "17  https://www.jagonews24.com/country/news/504943  \n",
       "18  https://www.jagonews24.com/country/news/495562  \n",
       "19  https://www.jagonews24.com/country/news/481365  "
      ]
     },
     "execution_count": 25,
     "metadata": {},
     "output_type": "execute_result"
    }
   ],
   "source": [
    "dfM = pd.DataFrame(records, columns=['Headline', 'URL'])\n",
    "dfM"
   ]
  },
  {
   "cell_type": "markdown",
   "metadata": {},
   "source": [
    "# Navigate the next page"
   ]
  },
  {
   "cell_type": "code",
   "execution_count": null,
   "metadata": {},
   "outputs": [],
   "source": [
    "def get_url(address):\n",
    "    \"\"\"Generate url from division, district, thana\"\"\"\n",
    "    template = 'https://www.jagonews24.com/bangladesh/{}'\n",
    "    address = address.replace(' ', '/')\n",
    "    return template.format(address)\n"
   ]
  },
  {
   "cell_type": "code",
   "execution_count": 26,
   "metadata": {},
   "outputs": [],
   "source": [
    "from selenium import webdriver\n",
    "from bs4 import BeautifulSoup\n",
    "from selenium.common.exceptions import NoSuchElementException\n",
    "import time\n",
    "import json\n",
    "\n",
    "data = {}"
   ]
  },
  {
   "cell_type": "code",
   "execution_count": 29,
   "metadata": {},
   "outputs": [],
   "source": [
    "browser = webdriver.Chrome()\n",
    "url = \"https://www.jagonews24.com/bangladesh/barisal/patuakhali\"\n",
    "browser.get(url)"
   ]
  },
  {
   "cell_type": "code",
   "execution_count": 30,
   "metadata": {},
   "outputs": [],
   "source": [
    "html = browser.page_source\n",
    "soup = BeautifulSoup(html, \"html.parser\")"
   ]
  },
  {
   "cell_type": "code",
   "execution_count": null,
   "metadata": {},
   "outputs": [],
   "source": [
    "# Going through pagination\n",
    "pages_remaining = True\n",
    "counter = 1\n",
    "index = 0\n",
    "\n",
    "while pages_remaining:\n",
    "\n",
    "    if counter == 60:\n",
    "        pages_remaining = False\n",
    "\n",
    "    # FETCH AGE, HEIGHT, WEIGHT, & FITNESS GOAL\n",
    "    \n",
    "\n",
    "    **metrics = soup.find_all('div', attrs={'class':'paddingTop10 paddingRight10'})**\n",
    "\n",
    "    for x in range(0, len(metrics)):\n",
    "        metrics_children = metrics[index].findChildren()\n",
    "\n",
    "        details = soup.find_all('div', attrs={'class':'paddingTop10 paddingRight10'})\n",
    "        news = details[index].find('a')['title']\n",
    "        link = details[index].find('a')['href']\n",
    "        \n",
    "        result = (news, link)\n",
    "\n",
    "        index = index + 1\n",
    "        counter = counter + 1\n",
    "\n",
    "    try:\n",
    "    # Go to page 2\n",
    "    next_link = browser.find_element_by_xpath('//*[@title=\"Go to page 2\"]')\n",
    "    next_link.click()\n",
    "    index = 0\n",
    "\n",
    "    # update html and soup\n",
    "    html = browser.page_source\n",
    "    soup = BeautifulSoup(html, \"html.parser\")\n",
    "\n",
    "    time.sleep(30)\n",
    "\n",
    "    except NoSuchElementException:\n",
    "    rows_remaining = False"
   ]
  },
  {
   "cell_type": "code",
   "execution_count": null,
   "metadata": {},
   "outputs": [],
   "source": []
  }
 ],
 "metadata": {
  "colab": {
   "authorship_tag": "ABX9TyORWNZOXpCT4VdgILPIZjXQ",
   "name": "web-scrapping.ipynb",
   "provenance": []
  },
  "kernelspec": {
   "display_name": "Python 3",
   "language": "python",
   "name": "python3"
  },
  "language_info": {
   "codemirror_mode": {
    "name": "ipython",
    "version": 3
   },
   "file_extension": ".py",
   "mimetype": "text/x-python",
   "name": "python",
   "nbconvert_exporter": "python",
   "pygments_lexer": "ipython3",
   "version": "3.8.8"
  }
 },
 "nbformat": 4,
 "nbformat_minor": 1
}
